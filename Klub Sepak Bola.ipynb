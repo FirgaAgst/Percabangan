{
 "cells": [
  {
   "cell_type": "markdown",
   "id": "62cb9352-d056-4352-8138-b1bbddad1c4a",
   "metadata": {},
   "source": [
    "<h3>PERSEGI FC</h3>"
   ]
  },
  {
   "cell_type": "code",
   "execution_count": null,
   "id": "75874b51-82ca-4ce7-84f2-1a765cf7cc9d",
   "metadata": {},
   "outputs": [],
   "source": [
    "nomor_punggung = int(input(\"masukan nomor punggung :\"))\n",
    "posisi_pemain =''\n",
    "\n",
    "if nomor_punggung % 2 == 0:\n",
    "    if nomor_punggung >= 50 and nomor_punggung <=100:\n",
    "        posisi_pemain = \"berhak di pilih menjadi capten team\"\n",
    "    else:\n",
    "        posisi_pemain =\"target attacker\"\n",
    "else:\n",
    "    if nomor_punggung > 90:\n",
    "        posisi_pemain = \"playmaker\"\n",
    "    elif  nomor_punggung % 3 == 0 and nomor_punggung % 5 == 0:\n",
    "        posisi_pemain = \"keeper\"\n",
    "    else:\n",
    "        posisi_pemain = \"defender\"\n",
    "print(\"posisi :\"+posisi_pemain)"
   ]
  }
 ],
 "metadata": {
  "kernelspec": {
   "display_name": "Python 3 (ipykernel)",
   "language": "python",
   "name": "python3"
  },
  "language_info": {
   "codemirror_mode": {
    "name": "ipython",
    "version": 3
   },
   "file_extension": ".py",
   "mimetype": "text/x-python",
   "name": "python",
   "nbconvert_exporter": "python",
   "pygments_lexer": "ipython3",
   "version": "3.11.7"
  }
 },
 "nbformat": 4,
 "nbformat_minor": 5
}
