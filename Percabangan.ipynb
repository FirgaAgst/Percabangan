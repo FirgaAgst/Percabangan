{
 "cells": [
  {
   "cell_type": "markdown",
   "id": "c98079a6",
   "metadata": {},
   "source": [
    "<h2>percabangan</h2>"
   ]
  },
  {
   "cell_type": "code",
   "execution_count": 13,
   "id": "4cd1aa7f",
   "metadata": {},
   "outputs": [
    {
     "name": "stdout",
     "output_type": "stream",
     "text": [
      "masukan nilai: 3\n",
      "3 adalah bilangan ganjil\n",
      "program selesai\n"
     ]
    }
   ],
   "source": [
    "nilai = int(input(\"masukan nilai: \"))\n",
    "\n",
    "sisa_bagi = nilai % 2\n",
    "if nilai == 0:\n",
    "    print(f\"{nilai} adalah bilangan genap\")\n",
    "    \n",
    "else:\n",
    "    print(f\"{nilai} adalah bilangan ganjil\")\n",
    "print(\"program selesai\")\n",
    "\n"
   ]
  },
  {
   "cell_type": "code",
   "execution_count": 25,
   "id": "cd71a0d0",
   "metadata": {
    "scrolled": true
   },
   "outputs": [
    {
     "name": "stdout",
     "output_type": "stream",
     "text": [
      "masukan nilai pemrograman: 101\n",
      "nilai salah\n"
     ]
    }
   ],
   "source": [
    "n_programan = int(input(\"masukan nilai pemrograman: \"))\n",
    "\n",
    "if n_programan <0 or n_programan >100:\n",
    "    print(\"nilai salah\")\n",
    "elif n_programan <50:\n",
    "    print(\"E\")\n",
    "elif n_programan <60:\n",
    "    print(\"D\")\n",
    "elif n_programan <70:\n",
    "    print(\"C\")\n",
    "elif n_programan <85:\n",
    "    print(\"B\")\n",
    "elif n_programan <=100:\n",
    "    print(\"A\")"
   ]
  },
  {
   "cell_type": "code",
   "execution_count": 29,
   "id": "bf8bb561",
   "metadata": {},
   "outputs": [
    {
     "name": "stdout",
     "output_type": "stream",
     "text": [
      "masukan username: admin\n",
      "masukan password: admin datang\n",
      "password anda salah\n"
     ]
    }
   ],
   "source": [
    "username = input(\"masukan username: \")\n",
    "password =  input(\"masukan password: \")\n",
    "\n",
    "if username == \"admin\":\n",
    "    if password == \"admin\":\n",
    "        print(f\"selamat datang {username}\")\n",
    "    else:\n",
    "        print(\"password anda salah\")\n",
    "else:\n",
    "    if password == \"admin\":\n",
    "        print (\"username anda salah\")\n",
    "    else:\n",
    "        print(\"username dan password anda salah\")"
   ]
  },
  {
   "cell_type": "code",
   "execution_count": 32,
   "id": "637777f9",
   "metadata": {},
   "outputs": [
    {
     "name": "stdout",
     "output_type": "stream",
     "text": [
      "masukan nama: sehan\n",
      "masukan umur: 50\n",
      "masukan tempat tinggal:sukabumi\n",
      "masukan uang tabungan dalam jt dolar: 20\n",
      "sehan tidak mencurigakan\n"
     ]
    }
   ],
   "source": [
    "nama = input(\"masukan nama: \")\n",
    "umur = int(input(\"masukan umur: \"))\n",
    "tinggal = input(\"masukan tempat tinggal:\")\n",
    "tabungan = int(input(\"masukan uang tabungan dalam jt dolar: \"))\n",
    "pangkat =''\n",
    "\n",
    "if umur >40:\n",
    "    if tinggal ==\"Nevada\" or tinggal ==\"New York\" or tinggal ==\"Havana\":\n",
    "        if tabungan >10:\n",
    "            pangkat = \"Don\"\n",
    "elif umur>=25 and umur<=40:\n",
    "    if tinggal ==\"New Jersey\" or tinggal ==\"Manhattan\" or tinggal ==\"Nevada\":\n",
    "        if tabungan >0 and tabungan <=2: \n",
    "            pangkat = \"Underboss\"\n",
    "elif umur >=18 and umur <=24:\n",
    "    if tinggal ==\"Callifornia\" or tinggal ==\"Detroit\" or tinggal ==\"Boston\":\n",
    "        if tabungan >10:\n",
    "            pangkat = \"Capo\"\n",
    "            \n",
    "if pangkat !='':\n",
    "    print(f\"{nama} kemungkinan adalah seorang anggota mafia dengan pangkat {pangkat}\")\n",
    "else:\n",
    "    print(f\"{nama} tidak mencurigakan\")"
   ]
  },
  {
   "cell_type": "code",
   "execution_count": null,
   "id": "eb147f5d",
   "metadata": {},
   "outputs": [],
   "source": []
  }
 ],
 "metadata": {
  "kernelspec": {
   "display_name": "Python 3 (ipykernel)",
   "language": "python",
   "name": "python3"
  },
  "language_info": {
   "codemirror_mode": {
    "name": "ipython",
    "version": 3
   },
   "file_extension": ".py",
   "mimetype": "text/x-python",
   "name": "python",
   "nbconvert_exporter": "python",
   "pygments_lexer": "ipython3",
   "version": "3.9.12"
  }
 },
 "nbformat": 4,
 "nbformat_minor": 5
}
