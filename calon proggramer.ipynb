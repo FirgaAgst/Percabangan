{
 "cells": [
  {
   "cell_type": "markdown",
   "id": "ad12793a-300f-4bec-8b7c-2772506b1a9b",
   "metadata": {
    "scrolled": true
   },
   "source": [
    "<h3> Tugas calon proggramer<h3>"
   ]
  },
  {
   "cell_type": "code",
   "execution_count": 8,
   "id": "ee601173-b8bc-4e74-b5e5-b1cb29aa4e94",
   "metadata": {},
   "outputs": [
    {
     "name": "stdin",
     "output_type": "stream",
     "text": [
      "Masukan Nilai : 90\n",
      "Masukan Nilai interview : A\n"
     ]
    },
    {
     "name": "stdout",
     "output_type": "stream",
     "text": [
      "Selamat Kamu Berhasil Menjadi Calon Programmer\n"
     ]
    }
   ],
   "source": [
    "nilai_coding = int(input(\"Masukan Nilai :\"))\n",
    "hasil_coding =''\n",
    "\n",
    "if nilai_coding > 80  and nilai_coding <=100:\n",
    "   hasil_coding =\"LOLOS\"\n",
    "elif nilai_coding >=60 and nilai_coding <=80:\n",
    "     hasil_coding= \"DIPERTIMBANGKAN\"\n",
    "elif nilai_coding >= 0 and nilai_coding <  60 :\n",
    "     hasil_coding = \"GAGAL\"\n",
    "else: \n",
    "    print(\"input anda salah\")\n",
    "nilai_interview = input(\"Masukan Nilai interview :\")\n",
    "hasil_interview =''\n",
    "\n",
    "if  nilai_interview == \"A\" or nilai_interview == \"B\":\n",
    "    hasil_interview = \"LOLOS\"    \n",
    "else:\n",
    "    hasil_interview = \"GAGAL\"\n",
    "    \n",
    "if (hasil_coding == \"LOLOS\" or hasil_coding == \"DIPERTIMBANGKAN\") and hasil_interview == \"LOLOS\":\n",
    "    print(\"Selamat Kamu Berhasil Menjadi Calon Programmer\")\n",
    "else:    \n",
    "    print(\"Maaf Kamu Belum Berhasil Menjadi Calon Programmer\")"
   ]
  },
  {
   "cell_type": "code",
   "execution_count": null,
   "id": "2205b79e-11e7-4513-9871-bb75487eca76",
   "metadata": {},
   "outputs": [],
   "source": []
  }
 ],
 "metadata": {
  "kernelspec": {
   "display_name": "Python 3 (ipykernel)",
   "language": "python",
   "name": "python3"
  },
  "language_info": {
   "codemirror_mode": {
    "name": "ipython",
    "version": 3
   },
   "file_extension": ".py",
   "mimetype": "text/x-python",
   "name": "python",
   "nbconvert_exporter": "python",
   "pygments_lexer": "ipython3",
   "version": "3.11.7"
  }
 },
 "nbformat": 4,
 "nbformat_minor": 5
}
